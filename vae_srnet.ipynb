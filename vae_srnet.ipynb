{
 "cells": [
  {
   "cell_type": "code",
   "execution_count": 2,
   "id": "79167a28-6916-4a4b-b2f7-1187a9017519",
   "metadata": {},
   "outputs": [],
   "source": [
    "import argparse\n",
    "import functools\n",
    "import gc\n",
    "import re\n",
    "import logging\n",
    "import math\n",
    "import os\n",
    "import random\n",
    "import shutil\n",
    "from contextlib import nullcontext\n",
    "from pathlib import Path\n",
    "\n",
    "import accelerate\n",
    "import numpy as np\n",
    "import torch\n",
    "import torch.nn.functional as F\n",
    "import torch.utils.checkpoint\n",
    "import transformers\n",
    "\n",
    "from omegaconf import OmegaConf\n",
    "from functools import partial\n",
    "from accelerate import Accelerator\n",
    "from accelerate.logging import get_logger\n",
    "from accelerate.utils import DistributedType, ProjectConfiguration, set_seed\n",
    "from datasets import load_dataset\n",
    "from huggingface_hub import create_repo, upload_folder\n",
    "from packaging import version\n",
    "from PIL import Image\n",
    "from torchvision import transforms\n",
    "from tqdm.auto import tqdm\n",
    "from transformers import AutoTokenizer, PretrainedConfig\n",
    "\n",
    "import diffusers\n",
    "from diffusers import (\n",
    "    AutoencoderKL,\n",
    "    DDPMScheduler,\n",
    "    UniPCMultistepScheduler,\n",
    ")\n",
    "from utils.utils import (\n",
    "    exists,\n",
    "    instantiate_from_config\n",
    ")"
   ]
  },
  {
   "cell_type": "code",
   "execution_count": 7,
   "id": "d698a962-c096-4a10-b741-b3cca3911633",
   "metadata": {},
   "outputs": [
    {
     "name": "stderr",
     "output_type": "stream",
     "text": [
      "/tmp/ipykernel_1280/153793454.py:8: FutureWarning: You are using `torch.load` with `weights_only=False` (the current default value), which uses the default pickle module implicitly. It is possible to construct malicious pickle data which will execute arbitrary code during unpickling (See https://github.com/pytorch/pytorch/blob/main/SECURITY.md#untrusted-models for more details). In a future release, the default value for `weights_only` will be flipped to `True`. This limits the functions that could be executed during unpickling. Arbitrary objects will no longer be allowed to be loaded via this mode unless they are explicitly allowlisted by the user via `torch.serialization.add_safe_globals`. We recommend you start setting `weights_only=True` for any use case where you don't have full control of the loaded file. Please open an issue on GitHub for any issues related to this experimental feature.\n",
      "  loadnet = torch.load(cfg.train.noiseresnet_path, map_location=\"cpu\")\n"
     ]
    },
    {
     "name": "stdout",
     "output_type": "stream",
     "text": [
      "cpu\n"
     ]
    }
   ],
   "source": [
    "from diffusers import AutoencoderKL\n",
    "from PIL import Image\n",
    "import  torch\n",
    "import torchvision.transforms as T\n",
    "\n",
    "cfg = OmegaConf.load(\"config/srganResNet.yaml\")\n",
    "srganresnet  = instantiate_from_config(cfg.model.srganresnet)\n",
    "loadnet = torch.load(cfg.train.noiseresnet_path, map_location=\"cpu\")\n",
    "srganresnet.load_state_dict(loadnet, strict=True)\n",
    "\n",
    "\n",
    "            \n",
    "noisestep=100\n",
    "#  ./huggingface/stable-diffusion-v1-4/vae 切换为任意本地路径\n",
    "vae = AutoencoderKL.from_pretrained(\"checkpoint/sdxl-vae-fp16-fix\")\n",
    "noise_scheduler = DDPMScheduler.from_pretrained(\"checkpoint/stable-diffusion-xl-refiner-1.0\", subfolder=\"scheduler\")\n",
    "#vae.to(\"cuda\")\n",
    "def encode_img(input_img):\n",
    "    transform = T.Compose([\n",
    "        T.ToTensor()\n",
    "    ])\n",
    "    input_img = transform(input_img)#.to(\"cuda\")\n",
    "    if len(input_img.shape)<4:\n",
    "        input_img = input_img.unsqueeze(0)\n",
    "        # input_img = F.interpolate(\n",
    "        #             input_img,\n",
    "        #             scale_factor=4,  # 或直接指定尺寸 mode='bilinear', align_corners=False\n",
    "        #             mode='bicubic'  # 可选 'nearest', 'bicubic' 等\n",
    "        #         )\n",
    "        input_img = input_img.clamp(0, 1) * 2 - 1\n",
    "    with torch.no_grad():\n",
    "        latents = vae.encode(input_img)\n",
    "        latents = latents.latent_dist.sample()* vae.config.scaling_factor # Note scaling\n",
    "\n",
    "    return latents\n",
    "\n",
    "\n",
    "def decode_img(latents):\n",
    "    # bath of latents -> list of images\n",
    "    latents = (1 / vae.config.scaling_factor) * latents\n",
    "    print(latents.device)\n",
    "    with torch.no_grad():\n",
    "        image = vae.decode(latents).sample\n",
    "    image = (image / 2 + 0.5).clamp(0, 1)\n",
    "    image = image.detach().cpu()\n",
    "    # image = T.Resize(original_size)(image.squeeze())\n",
    "    return T.ToPILImage()(image.squeeze())\n",
    "\n",
    "if __name__ == '__main__':\n",
    "    # Load an example image\n",
    "    input_img = Image.open(\"AIDtest_pro/HR/pond_293_hr.png\")\n",
    "    \n",
    "    # Encode and decode the image\n",
    "    latents = encode_img(input_img)\n",
    "    #latents = srganresnet(latents)\n",
    "    reconstructed_img = decode_img(latents)\n",
    "\n",
    "    # Save the reconstructed image\n",
    "    reconstructed_img.save(\"reconstructed3.png\")\n",
    "    # Concatenate the original and reconstructed images\n",
    "    # concatenated_img = Image.new('RGB', (original_size[0] * 2, original_size[1]))\n",
    "    # concatenated_img.paste(input_img, (0, 0))\n",
    "    # concatenated_img.paste(reconstructed_img, (original_size[0], 0))\n",
    "    # # Save the concatenated image\n",
    "    # concatenated_img.save(\"vaetest/concatenated_church_136.png\")\n"
   ]
  },
  {
   "cell_type": "code",
   "execution_count": 3,
   "id": "9e7f5b7d-2f40-45f5-94f4-916fdb02a19b",
   "metadata": {},
   "outputs": [
    {
     "name": "stdout",
     "output_type": "stream",
     "text": [
      "tensor([[[0.0797, 0.1735, 0.3032, 0.2582, 0.1050],\n",
      "         [0.2624, 0.3757, 0.4058, 0.3323, 0.1815],\n",
      "         [0.2848, 0.3722, 0.3713, 0.3961, 0.3012],\n",
      "         [0.3829, 0.5861, 0.5681, 0.5723, 0.3273],\n",
      "         [0.2770, 0.3557, 0.3824, 0.3813, 0.2155]],\n",
      "\n",
      "        [[0.3474, 0.4726, 0.5803, 0.4147, 0.1840],\n",
      "         [0.2612, 0.5787, 0.7942, 0.5793, 0.1970],\n",
      "         [0.3089, 0.6913, 0.9542, 0.7457, 0.2591],\n",
      "         [0.1641, 0.4254, 0.6405, 0.5139, 0.2148],\n",
      "         [0.1081, 0.2023, 0.3134, 0.2891, 0.1031]],\n",
      "\n",
      "        [[0.4995, 0.9712, 1.0125, 0.8367, 0.4393],\n",
      "         [0.7838, 1.4252, 1.4664, 1.2186, 0.6746],\n",
      "         [0.8107, 1.5177, 1.5462, 1.3267, 0.6857],\n",
      "         [0.7062, 1.3419, 1.3833, 1.1374, 0.6056],\n",
      "         [0.2482, 0.5513, 0.5762, 0.5304, 0.2977]],\n",
      "\n",
      "        [[0.1522, 0.2745, 0.3789, 0.3018, 0.2313],\n",
      "         [0.2767, 0.4106, 0.5960, 0.4656, 0.2551],\n",
      "         [0.3060, 0.4846, 0.6594, 0.4780, 0.2072],\n",
      "         [0.3041, 0.4796, 0.5958, 0.4444, 0.2172],\n",
      "         [0.2908, 0.3787, 0.4157, 0.2579, 0.0990]]],\n",
      "       grad_fn=<SqueezeBackward1>)\n"
     ]
    },
    {
     "name": "stderr",
     "output_type": "stream",
     "text": [
      "/tmp/ipykernel_1250/972906042.py:8: FutureWarning: You are using `torch.load` with `weights_only=False` (the current default value), which uses the default pickle module implicitly. It is possible to construct malicious pickle data which will execute arbitrary code during unpickling (See https://github.com/pytorch/pytorch/blob/main/SECURITY.md#untrusted-models for more details). In a future release, the default value for `weights_only` will be flipped to `True`. This limits the functions that could be executed during unpickling. Arbitrary objects will no longer be allowed to be loaded via this mode unless they are explicitly allowlisted by the user via `torch.serialization.add_safe_globals`. We recommend you start setting `weights_only=True` for any use case where you don't have full control of the loaded file. Please open an issue on GitHub for any issues related to this experimental feature.\n",
      "  loadnet = torch.load(cfg.train.noiseresnet_path, map_location=\"cpu\")\n"
     ]
    }
   ],
   "source": [
    "from diffusers import AutoencoderKL\n",
    "from PIL import Image\n",
    "import  torch\n",
    "import torchvision.transforms as T\n",
    "\n",
    "cfg = OmegaConf.load(\"config/srganResNet.yaml\")\n",
    "srganresnet  = instantiate_from_config(cfg.model.srganresnet)\n",
    "loadnet = torch.load(cfg.train.noiseresnet_path, map_location=\"cpu\")\n",
    "srganresnet.load_state_dict(loadnet, strict=True)\n",
    "\n",
    "tensor_4x4x64 = torch.ones((4, 5, 5))\n",
    "tensor_4x4x64 = srganresnet(tensor_4x4x64)\n",
    "print(tensor_4x4x64)"
   ]
  },
  {
   "cell_type": "code",
   "execution_count": 1,
   "id": "f95c8a05-0ada-4040-8baf-93010bfe0643",
   "metadata": {},
   "outputs": [
    {
     "name": "stdout",
     "output_type": "stream",
     "text": [
      "torch.Size([4, 64, 64])\n",
      "均值: 0.0051, 标准差: 0.9968\n"
     ]
    }
   ],
   "source": [
    "import torch\n",
    "\n",
    "# 生成标准正态分布的tensor (μ=0, σ=1)\n",
    "normal_tensor = torch.randn(4, 64, 64)\n",
    "print(normal_tensor.shape)  # 输出: torch.Size([4, 64, 64])\n",
    "print(f\"均值: {normal_tensor.mean():.4f}, 标准差: {normal_tensor.std():.4f}\")"
   ]
  },
  {
   "cell_type": "code",
   "execution_count": 4,
   "id": "41842226-4c6e-4aa4-872a-c9f69472c56a",
   "metadata": {},
   "outputs": [
    {
     "data": {
      "text/plain": [
       "True"
      ]
     },
     "execution_count": 4,
     "metadata": {},
     "output_type": "execute_result"
    }
   ],
   "source": [
    "import numpy as np\n",
    "import cv2\n",
    "\n",
    "# 读取灰度图\n",
    "gray_image = cv2.imread('train_maskmodel/example/diff/diff-200/img_0.png', cv2.IMREAD_GRAYSCALE)\n",
    "\n",
    "# 二值化处理\n",
    "threshold = 255 * 0.3\n",
    "binary_image = np.where(gray_image > threshold, 1, 0).astype(np.uint8)\n",
    "\n",
    "# 保存结果\n",
    "cv2.imwrite('binary_output.png', binary_image * 255)  # 保存时需将1映射为255（白色）"
   ]
  },
  {
   "cell_type": "code",
   "execution_count": null,
   "id": "3f63284d-cd29-4743-8635-8899ef8a5b52",
   "metadata": {},
   "outputs": [],
   "source": []
  }
 ],
 "metadata": {
  "kernelspec": {
   "display_name": "Python 3 (ipykernel)",
   "language": "python",
   "name": "python3"
  },
  "language_info": {
   "codemirror_mode": {
    "name": "ipython",
    "version": 3
   },
   "file_extension": ".py",
   "mimetype": "text/x-python",
   "name": "python",
   "nbconvert_exporter": "python",
   "pygments_lexer": "ipython3",
   "version": "3.12.3"
  }
 },
 "nbformat": 4,
 "nbformat_minor": 5
}
